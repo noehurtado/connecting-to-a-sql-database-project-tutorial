{
  "cells": [
   {
    "cell_type": "markdown",
    "metadata": {},
    "source": [
     "# Explora aquí\n",
     "\n",
     "Se recomienda utilizar este cuaderno con fines de exploración.\n",
     "\n",
     "Por ejemplo:\n",
     "\n",
     "1. Puede importar el CSV generado por Python a su computadora portátil y explorarlo.\n",
     "2. Puede conectarse a su base de datos usando `pandas.read_sql` desde este cuaderno y explorarla."
    ]
   },
   {
    "cell_type": "code",
    "execution_count": null,
    "metadata": {},
    "outputs": [],
    "source": [
     "# Ejemplo de lectura de la base de datos SQL desde aquí\n",
     "import os\n",
     "from dotenv import load_dotenv\n",
     "from sqlalchemy import create_engine\n",
     "import pandas as pd\n",
     "\n",
     "# cargar las variables del archivo .env\n",
     "load_dotenv()\n",
     "\n",
     "connection_string = f\"postgresql://{os.getenv('DB_USER')}:{os.getenv('DB_PASSWORD')}@{os.getenv('DB_HOST')}/{os.getenv('DB_NAME')}\"\n",
     "engine = create_engine(connection_string).execution_options(autocommit=True)\n",
     "engine.connect()\n",
     "\n",
     "# dataframe = pd.read_sql(\"Select * from books;\", engine)\n",
     "# print(dataframe.describe())"
    ]
   }
  ],
  "metadata": {
   "kernelspec": {
    "display_name": "Python 3.8.13 64-bit ('3.8.13')",
    "language": "python",
    "name": "python3"
   },
   "language_info": {
    "codemirror_mode": {
     "name": "ipython",
     "version": 3
    },
    "file_extension": ".py",
    "mimetype": "text/x-python",
    "name": "python",
    "nbconvert_exporter": "python",
    "pygments_lexer": "ipython3",
    "version": "3.10.12"
   },
   "orig_nbformat": 4,
   "vscode": {
    "interpreter": {
     "hash": "110cc1dee26208153f2972f08a2ad52b6a56238dc66d48e87fb757ef2996db56"
    }
   }
  },
  "nbformat": 4,
  "nbformat_minor": 2
 }